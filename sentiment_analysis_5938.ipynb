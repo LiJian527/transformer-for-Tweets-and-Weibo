{
 "cells": [
  {
   "cell_type": "code",
   "execution_count": 2,
   "metadata": {},
   "outputs": [],
   "source": [
    "from transformers import pipeline\n",
    "import datasets"
   ]
  },
  {
   "cell_type": "code",
   "execution_count": 3,
   "metadata": {},
   "outputs": [],
   "source": [
    "import matplotlib.pyplot as plt\n",
    "import seaborn as sns"
   ]
  },
  {
   "cell_type": "code",
   "execution_count": 4,
   "metadata": {},
   "outputs": [],
   "source": [
    "import torch\n",
    "from transformers import AutoModelForSequenceClassification\n",
    "from transformers import AutoTokenizer, AutoModelForSequenceClassification\n",
    "from scipy.special import softmax\n",
    "import config\n",
    "import torch.nn.functional as F"
   ]
  },
  {
   "cell_type": "code",
   "execution_count": 5,
   "metadata": {},
   "outputs": [],
   "source": [
    "import random\n",
    "import pandas as pd\n",
    "from IPython.display import display, HTML\n",
    "import numpy as np\n",
    "import os"
   ]
  },
  {
   "cell_type": "code",
   "execution_count": 23,
   "metadata": {},
   "outputs": [
    {
     "name": "stdout",
     "output_type": "stream",
     "text": [
      "Training data shape:  (104, 6)\n",
      "Testing data shape:  (100, 1)\n"
     ]
    },
    {
     "data": {
      "text/html": [
       "<div>\n",
       "<style scoped>\n",
       "    .dataframe tbody tr th:only-of-type {\n",
       "        vertical-align: middle;\n",
       "    }\n",
       "\n",
       "    .dataframe tbody tr th {\n",
       "        vertical-align: top;\n",
       "    }\n",
       "\n",
       "    .dataframe thead th {\n",
       "        text-align: right;\n",
       "    }\n",
       "</style>\n",
       "<table border=\"1\" class=\"dataframe\">\n",
       "  <thead>\n",
       "    <tr style=\"text-align: right;\">\n",
       "      <th></th>\n",
       "      <th>created_at</th>\n",
       "      <th>favorite_count</th>\n",
       "      <th>id</th>\n",
       "      <th>full_text</th>\n",
       "      <th>reply_count</th>\n",
       "      <th>url</th>\n",
       "    </tr>\n",
       "  </thead>\n",
       "  <tbody>\n",
       "    <tr>\n",
       "      <th>0</th>\n",
       "      <td>2021-09-20T05:47:45.000Z</td>\n",
       "      <td>51</td>\n",
       "      <td>1439828607510196225</td>\n",
       "      <td>Why aren’t all our universities now providing ...</td>\n",
       "      <td>161</td>\n",
       "      <td>https://twitter.com/BarrySheerman/status/14398...</td>\n",
       "    </tr>\n",
       "    <tr>\n",
       "      <th>1</th>\n",
       "      <td>2021-12-17T11:26:34.000Z</td>\n",
       "      <td>491</td>\n",
       "      <td>1471804006393540610</td>\n",
       "      <td>Some personal news: \\n\\nAfter 12 yrs at Twitte...</td>\n",
       "      <td>58</td>\n",
       "      <td>https://twitter.com/PratPanc/status/1471804006...</td>\n",
       "    </tr>\n",
       "    <tr>\n",
       "      <th>2</th>\n",
       "      <td>2021-09-19T08:37:15.000Z</td>\n",
       "      <td>151</td>\n",
       "      <td>1439508874818736130</td>\n",
       "      <td>England's universities must take student views...</td>\n",
       "      <td>36</td>\n",
       "      <td>https://twitter.com/BBCNews/status/14395088748...</td>\n",
       "    </tr>\n",
       "    <tr>\n",
       "      <th>3</th>\n",
       "      <td>2021-10-01T08:13:49.000Z</td>\n",
       "      <td>799</td>\n",
       "      <td>1443851631376977921</td>\n",
       "      <td>Over 1,800 undergraduates at Warwick Universit...</td>\n",
       "      <td>22</td>\n",
       "      <td>https://twitter.com/UsforThemUK/status/1443851...</td>\n",
       "    </tr>\n",
       "    <tr>\n",
       "      <th>4</th>\n",
       "      <td>2021-09-10T15:58:48.000Z</td>\n",
       "      <td>79</td>\n",
       "      <td>1436358503971659781</td>\n",
       "      <td>Quite right of  Educ' Sec  @GavinWilliamson to...</td>\n",
       "      <td>21</td>\n",
       "      <td>https://twitter.com/toryboypierce/status/14363...</td>\n",
       "    </tr>\n",
       "  </tbody>\n",
       "</table>\n",
       "</div>"
      ],
      "text/plain": [
       "                 created_at  favorite_count                   id  \\\n",
       "0  2021-09-20T05:47:45.000Z              51  1439828607510196225   \n",
       "1  2021-12-17T11:26:34.000Z             491  1471804006393540610   \n",
       "2  2021-09-19T08:37:15.000Z             151  1439508874818736130   \n",
       "3  2021-10-01T08:13:49.000Z             799  1443851631376977921   \n",
       "4  2021-09-10T15:58:48.000Z              79  1436358503971659781   \n",
       "\n",
       "                                           full_text  reply_count  \\\n",
       "0  Why aren’t all our universities now providing ...          161   \n",
       "1  Some personal news: \\n\\nAfter 12 yrs at Twitte...           58   \n",
       "2  England's universities must take student views...           36   \n",
       "3  Over 1,800 undergraduates at Warwick Universit...           22   \n",
       "4  Quite right of  Educ' Sec  @GavinWilliamson to...           21   \n",
       "\n",
       "                                                 url  \n",
       "0  https://twitter.com/BarrySheerman/status/14398...  \n",
       "1  https://twitter.com/PratPanc/status/1471804006...  \n",
       "2  https://twitter.com/BBCNews/status/14395088748...  \n",
       "3  https://twitter.com/UsforThemUK/status/1443851...  \n",
       "4  https://twitter.com/toryboypierce/status/14363...  "
      ]
     },
     "execution_count": 23,
     "metadata": {},
     "output_type": "execute_result"
    }
   ],
   "source": [
    "#Training data\n",
    "\n",
    "train = pd.read_csv('train.csv')\n",
    "test = pd.read_csv('100test.csv')\n",
    "print('Training data shape: ', train.shape)\n",
    "print('Testing data shape: ', test.shape)\n",
    "\n",
    "# First few rows of the training dataset\n",
    "train.head()\n"
   ]
  },
  {
   "cell_type": "code",
   "execution_count": 24,
   "metadata": {},
   "outputs": [
    {
     "data": {
      "text/html": [
       "<div>\n",
       "<style scoped>\n",
       "    .dataframe tbody tr th:only-of-type {\n",
       "        vertical-align: middle;\n",
       "    }\n",
       "\n",
       "    .dataframe tbody tr th {\n",
       "        vertical-align: top;\n",
       "    }\n",
       "\n",
       "    .dataframe thead th {\n",
       "        text-align: right;\n",
       "    }\n",
       "</style>\n",
       "<table border=\"1\" class=\"dataframe\">\n",
       "  <thead>\n",
       "    <tr style=\"text-align: right;\">\n",
       "      <th></th>\n",
       "      <th>full_text</th>\n",
       "    </tr>\n",
       "  </thead>\n",
       "  <tbody>\n",
       "    <tr>\n",
       "      <th>0</th>\n",
       "      <td>Just posted a photo @ Missouri Western State U...</td>\n",
       "    </tr>\n",
       "    <tr>\n",
       "      <th>1</th>\n",
       "      <td>So with the numbers of LAW STUDENTS in univers...</td>\n",
       "    </tr>\n",
       "    <tr>\n",
       "      <th>2</th>\n",
       "      <td>It's so hard to make friends after university!...</td>\n",
       "    </tr>\n",
       "    <tr>\n",
       "      <th>3</th>\n",
       "      <td>Former University of Kansas professor found gu...</td>\n",
       "    </tr>\n",
       "    <tr>\n",
       "      <th>4</th>\n",
       "      <td>Congratulations to one of our high flying scho...</td>\n",
       "    </tr>\n",
       "  </tbody>\n",
       "</table>\n",
       "</div>"
      ],
      "text/plain": [
       "                                           full_text\n",
       "0  Just posted a photo @ Missouri Western State U...\n",
       "1  So with the numbers of LAW STUDENTS in univers...\n",
       "2  It's so hard to make friends after university!...\n",
       "3  Former University of Kansas professor found gu...\n",
       "4  Congratulations to one of our high flying scho..."
      ]
     },
     "execution_count": 24,
     "metadata": {},
     "output_type": "execute_result"
    }
   ],
   "source": [
    "# First few rows of the testing dataset\n",
    "test.head()"
   ]
  },
  {
   "cell_type": "code",
   "execution_count": 25,
   "metadata": {},
   "outputs": [
    {
     "data": {
      "text/plain": [
       "created_at        0\n",
       "favorite_count    0\n",
       "id                0\n",
       "full_text         0\n",
       "reply_count       0\n",
       "url               0\n",
       "dtype: int64"
      ]
     },
     "execution_count": 25,
     "metadata": {},
     "output_type": "execute_result"
    }
   ],
   "source": [
    "#Missing values in training set\n",
    "train.isnull().sum()\n"
   ]
  },
  {
   "cell_type": "code",
   "execution_count": 26,
   "metadata": {},
   "outputs": [
    {
     "data": {
      "text/plain": [
       "full_text    0\n",
       "dtype: int64"
      ]
     },
     "execution_count": 26,
     "metadata": {},
     "output_type": "execute_result"
    }
   ],
   "source": [
    "#Missing values in test set\n",
    "test.isnull().sum()"
   ]
  },
  {
   "cell_type": "code",
   "execution_count": 27,
   "metadata": {},
   "outputs": [],
   "source": [
    "# Dropping missing values\n",
    "test.dropna(axis = 0, how ='any',inplace=True) ;"
   ]
  },
  {
   "cell_type": "code",
   "execution_count": 28,
   "metadata": {},
   "outputs": [],
   "source": [
    "from transformers import AutoTokenizer, AutoModelForSequenceClassification\n",
    "import torch\n",
    "import requests\n",
    "from bs4 import BeautifulSoup\n",
    "import re"
   ]
  },
  {
   "cell_type": "markdown",
   "metadata": {},
   "source": [
    "这一段代码将从HuggingFace的Transformer库下载预训练好的情感分析模型。\n",
    "https://huggingface.co/nlptown/bert-base-multilingual-uncased-sentiment\n",
    "这个预训练模型它以多颗星（1到5颗星之间）预测评论的情绪。"
   ]
  },
  {
   "cell_type": "code",
   "execution_count": 29,
   "metadata": {},
   "outputs": [],
   "source": [
    "tokenizer = AutoTokenizer.from_pretrained('nlptown/bert-base-multilingual-uncased-sentiment')\n",
    "\n",
    "model = AutoModelForSequenceClassification.from_pretrained('nlptown/bert-base-multilingual-uncased-sentiment')"
   ]
  },
  {
   "cell_type": "markdown",
   "metadata": {},
   "source": [
    "from transformers import AutoTokenizer, AutoModelForSequenceClassification\n",
    "\n",
    "tokenizer = AutoTokenizer.from_pretrained(\"techthiyanes/chinese_sentiment\")\n",
    "\n",
    "model = AutoModelForSequenceClassification.from_pretrained(\"techthiyanes/chinese_sentiment\")"
   ]
  },
  {
   "cell_type": "markdown",
   "metadata": {},
   "source": [
    "from transformers import AutoTokenizer, AutoModelForSequenceClassification\n",
    "\n",
    "tokenizer = AutoTokenizer.from_pretrained(\"cardiffnlp/twitter-roberta-base-sentiment\")\n",
    "\n",
    "model = AutoModelForSequenceClassification.from_pretrained(\"cardiffnlp/twitter-roberta-base-sentiment\")\n",
    "\n",
    "lables = ['Negative', 'Neutral', 'Positive']"
   ]
  },
  {
   "cell_type": "markdown",
   "metadata": {},
   "source": [
    "五颗星情感分类"
   ]
  },
  {
   "cell_type": "markdown",
   "metadata": {},
   "source": [
    "tokens = tokenizer.encode('I hated this, absolutely the worst', return_tensors='pt')"
   ]
  },
  {
   "cell_type": "markdown",
   "metadata": {},
   "source": [
    "tokens"
   ]
  },
  {
   "cell_type": "markdown",
   "metadata": {},
   "source": [
    "tokenizer.decode(tokens[0])"
   ]
  },
  {
   "cell_type": "markdown",
   "metadata": {},
   "source": [
    "result = model(tokens)\n",
    "result"
   ]
  },
  {
   "cell_type": "markdown",
   "metadata": {},
   "source": [
    "int(torch.argmax(result.logits))+1\n"
   ]
  },
  {
   "cell_type": "code",
   "execution_count": 30,
   "metadata": {},
   "outputs": [
    {
     "name": "stdout",
     "output_type": "stream",
     "text": [
      "5\n"
     ]
    }
   ],
   "source": [
    "tokens = tokenizer.encode('我爱你', return_tensors='pt')\n",
    "result = model(tokens)\n",
    "print(int(torch.argmax(result.logits))+1)"
   ]
  },
  {
   "cell_type": "code",
   "execution_count": 31,
   "metadata": {},
   "outputs": [],
   "source": [
    "df = pd.DataFrame(test, columns=['full_text'])"
   ]
  },
  {
   "cell_type": "code",
   "execution_count": 32,
   "metadata": {},
   "outputs": [
    {
     "name": "stdout",
     "output_type": "stream",
     "text": [
      "                                            full_text\n",
      "0   Just posted a photo @ Missouri Western State U...\n",
      "1   So with the numbers of LAW STUDENTS in univers...\n",
      "2   It's so hard to make friends after university!...\n",
      "3   Former University of Kansas professor found gu...\n",
      "4   Congratulations to one of our high flying scho...\n",
      "..                                                ...\n",
      "95  I've just seen a SMH article suggesting that, ...\n",
      "96  @bridgett65679 @FoxNews Where did get your PhD...\n",
      "97  @JNU_official_50 @EduMinOfIndia I am deeply so...\n",
      "98  You’re all invited to my graduation ceremony ✨...\n",
      "99  @Shashan15378205 @AskAnshul Wow..... You gives...\n",
      "\n",
      "[100 rows x 1 columns]\n"
     ]
    }
   ],
   "source": [
    "print(df)"
   ]
  },
  {
   "cell_type": "code",
   "execution_count": 33,
   "metadata": {},
   "outputs": [],
   "source": [
    "def sentiment_score(review):\n",
    "    tokens = tokenizer.encode(review, padding=True, \n",
    "                            truncation = True, max_length=50, return_tensors='pt') \n",
    "    result = model(tokens)\n",
    "    return int(torch.argmax(result.logits))+1\n",
    "\n"
   ]
  },
  {
   "cell_type": "code",
   "execution_count": 34,
   "metadata": {},
   "outputs": [
    {
     "data": {
      "text/plain": [
       "1"
      ]
     },
     "execution_count": 34,
     "metadata": {},
     "output_type": "execute_result"
    }
   ],
   "source": [
    "sentiment_score(df['full_text'].iloc[0])\n"
   ]
  },
  {
   "cell_type": "code",
   "execution_count": 35,
   "metadata": {},
   "outputs": [],
   "source": [
    "df['sentiment'] = df['full_text'].apply(lambda x: sentiment_score(x[:512]))"
   ]
  },
  {
   "cell_type": "code",
   "execution_count": 36,
   "metadata": {},
   "outputs": [
    {
     "data": {
      "text/html": [
       "<div>\n",
       "<style scoped>\n",
       "    .dataframe tbody tr th:only-of-type {\n",
       "        vertical-align: middle;\n",
       "    }\n",
       "\n",
       "    .dataframe tbody tr th {\n",
       "        vertical-align: top;\n",
       "    }\n",
       "\n",
       "    .dataframe thead th {\n",
       "        text-align: right;\n",
       "    }\n",
       "</style>\n",
       "<table border=\"1\" class=\"dataframe\">\n",
       "  <thead>\n",
       "    <tr style=\"text-align: right;\">\n",
       "      <th></th>\n",
       "      <th>full_text</th>\n",
       "      <th>sentiment</th>\n",
       "    </tr>\n",
       "  </thead>\n",
       "  <tbody>\n",
       "    <tr>\n",
       "      <th>0</th>\n",
       "      <td>Just posted a photo @ Missouri Western State U...</td>\n",
       "      <td>1</td>\n",
       "    </tr>\n",
       "    <tr>\n",
       "      <th>1</th>\n",
       "      <td>So with the numbers of LAW STUDENTS in univers...</td>\n",
       "      <td>3</td>\n",
       "    </tr>\n",
       "    <tr>\n",
       "      <th>2</th>\n",
       "      <td>It's so hard to make friends after university!...</td>\n",
       "      <td>5</td>\n",
       "    </tr>\n",
       "    <tr>\n",
       "      <th>3</th>\n",
       "      <td>Former University of Kansas professor found gu...</td>\n",
       "      <td>1</td>\n",
       "    </tr>\n",
       "    <tr>\n",
       "      <th>4</th>\n",
       "      <td>Congratulations to one of our high flying scho...</td>\n",
       "      <td>5</td>\n",
       "    </tr>\n",
       "    <tr>\n",
       "      <th>...</th>\n",
       "      <td>...</td>\n",
       "      <td>...</td>\n",
       "    </tr>\n",
       "    <tr>\n",
       "      <th>95</th>\n",
       "      <td>I've just seen a SMH article suggesting that, ...</td>\n",
       "      <td>2</td>\n",
       "    </tr>\n",
       "    <tr>\n",
       "      <th>96</th>\n",
       "      <td>@bridgett65679 @FoxNews Where did get your PhD...</td>\n",
       "      <td>3</td>\n",
       "    </tr>\n",
       "    <tr>\n",
       "      <th>97</th>\n",
       "      <td>@JNU_official_50 @EduMinOfIndia I am deeply so...</td>\n",
       "      <td>1</td>\n",
       "    </tr>\n",
       "    <tr>\n",
       "      <th>98</th>\n",
       "      <td>You’re all invited to my graduation ceremony ✨...</td>\n",
       "      <td>5</td>\n",
       "    </tr>\n",
       "    <tr>\n",
       "      <th>99</th>\n",
       "      <td>@Shashan15378205 @AskAnshul Wow..... You gives...</td>\n",
       "      <td>5</td>\n",
       "    </tr>\n",
       "  </tbody>\n",
       "</table>\n",
       "<p>100 rows × 2 columns</p>\n",
       "</div>"
      ],
      "text/plain": [
       "                                            full_text  sentiment\n",
       "0   Just posted a photo @ Missouri Western State U...          1\n",
       "1   So with the numbers of LAW STUDENTS in univers...          3\n",
       "2   It's so hard to make friends after university!...          5\n",
       "3   Former University of Kansas professor found gu...          1\n",
       "4   Congratulations to one of our high flying scho...          5\n",
       "..                                                ...        ...\n",
       "95  I've just seen a SMH article suggesting that, ...          2\n",
       "96  @bridgett65679 @FoxNews Where did get your PhD...          3\n",
       "97  @JNU_official_50 @EduMinOfIndia I am deeply so...          1\n",
       "98  You’re all invited to my graduation ceremony ✨...          5\n",
       "99  @Shashan15378205 @AskAnshul Wow..... You gives...          5\n",
       "\n",
       "[100 rows x 2 columns]"
      ]
     },
     "execution_count": 36,
     "metadata": {},
     "output_type": "execute_result"
    }
   ],
   "source": [
    "df"
   ]
  },
  {
   "cell_type": "code",
   "execution_count": 37,
   "metadata": {},
   "outputs": [],
   "source": [
    "df.to_csv(\"101test.csv\")"
   ]
  },
  {
   "cell_type": "code",
   "execution_count": 20,
   "metadata": {},
   "outputs": [
    {
     "data": {
      "text/plain": [
       "1    39\n",
       "5    28\n",
       "4    20\n",
       "3    12\n",
       "2     1\n",
       "Name: sentiment, dtype: int64"
      ]
     },
     "execution_count": 20,
     "metadata": {},
     "output_type": "execute_result"
    }
   ],
   "source": [
    "df['sentiment'].value_counts()"
   ]
  },
  {
   "cell_type": "code",
   "execution_count": 21,
   "metadata": {},
   "outputs": [
    {
     "data": {
      "text/plain": [
       "1    0.39\n",
       "5    0.28\n",
       "4    0.20\n",
       "3    0.12\n",
       "2    0.01\n",
       "Name: sentiment, dtype: float64"
      ]
     },
     "execution_count": 21,
     "metadata": {},
     "output_type": "execute_result"
    }
   ],
   "source": [
    "df['sentiment'].value_counts(normalize=True)"
   ]
  },
  {
   "cell_type": "markdown",
   "metadata": {},
   "source": [
    "三维情感分类"
   ]
  },
  {
   "cell_type": "code",
   "execution_count": 214,
   "metadata": {},
   "outputs": [],
   "source": [
    "tweet = 'You are my becon 😄'"
   ]
  },
  {
   "cell_type": "code",
   "execution_count": 215,
   "metadata": {},
   "outputs": [],
   "source": [
    "#precprcess tweet\n",
    "tweet_words = []\n",
    "\n",
    "for word in tweet.split(' '):\n",
    "    if word.startswith('@') and len(word) > 1:\n",
    "        word = '@user'\n",
    "    elif word.startswith('http'):\n",
    "        word = 'http'\n",
    "    tweet_words.append(word)\n",
    "\n",
    "tweet_proc = ' '.join(tweet_words)\n",
    "#print(tweet_words)\n",
    "#print(tweet_proc)"
   ]
  },
  {
   "cell_type": "code",
   "execution_count": 216,
   "metadata": {},
   "outputs": [],
   "source": [
    "# load model and tokenizer\n",
    "roberta = 'cardiffnlp/twitter-roberta-base-sentiment'\n",
    "model = AutoModelForSequenceClassification.from_pretrained(roberta)\n",
    "tokenizer = AutoTokenizer.from_pretrained(roberta)\n",
    "lables = ['Negative', 'Neutral', 'Positive']"
   ]
  },
  {
   "cell_type": "code",
   "execution_count": 217,
   "metadata": {},
   "outputs": [],
   "source": [
    "# sentiment analysis\n",
    "encoded_tweet = tokenizer(tweet_proc, return_tensors='pt')\n",
    "#print(encoded_tweet)"
   ]
  },
  {
   "cell_type": "code",
   "execution_count": 218,
   "metadata": {},
   "outputs": [],
   "source": [
    "output = model(encoded_tweet['input_ids'], encoded_tweet['attention_mask'])\n",
    "#print(output)"
   ]
  },
  {
   "cell_type": "code",
   "execution_count": 219,
   "metadata": {},
   "outputs": [
    {
     "name": "stdout",
     "output_type": "stream",
     "text": [
      "Negative 0.0044955024\n",
      "Neutral 0.12450922\n",
      "Positive 0.8709953\n"
     ]
    }
   ],
   "source": [
    "output = model(**encoded_tweet)\n",
    "scores = output[0][0].detach().numpy()\n",
    "scores = softmax(scores)\n",
    "\n",
    "for i in range(len(scores)):\n",
    "    l = lables[i]\n",
    "    s = scores[i]\n",
    "    print(l, s)\n",
    "#print(scores)"
   ]
  },
  {
   "cell_type": "code",
   "execution_count": null,
   "metadata": {},
   "outputs": [],
   "source": []
  }
 ],
 "metadata": {
  "kernelspec": {
   "display_name": "Python 3",
   "language": "python",
   "name": "python3"
  },
  "language_info": {
   "codemirror_mode": {
    "name": "ipython",
    "version": 3
   },
   "file_extension": ".py",
   "mimetype": "text/x-python",
   "name": "python",
   "nbconvert_exporter": "python",
   "pygments_lexer": "ipython3",
   "version": "3.8.5"
  }
 },
 "nbformat": 4,
 "nbformat_minor": 4
}
